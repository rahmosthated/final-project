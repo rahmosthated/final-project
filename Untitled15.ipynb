{
  "nbformat": 4,
  "nbformat_minor": 0,
  "metadata": {
    "colab": {
      "provenance": [],
      "authorship_tag": "ABX9TyMoCfdO005kjeuj2uU1xeXz",
      "include_colab_link": true
    },
    "kernelspec": {
      "name": "python3",
      "display_name": "Python 3"
    },
    "language_info": {
      "name": "python"
    }
  },
  "cells": [
    {
      "cell_type": "markdown",
      "metadata": {
        "id": "view-in-github",
        "colab_type": "text"
      },
      "source": [
        "<a href=\"https://colab.research.google.com/github/rahmosthated/final-project/blob/main/Untitled15.ipynb\" target=\"_parent\"><img src=\"https://colab.research.google.com/assets/colab-badge.svg\" alt=\"Open In Colab\"/></a>"
      ]
    },
    {
      "cell_type": "code",
      "source": [
        "from pydantic import BaseModel\n",
        "from typing import Optional\n",
        "from datetime import datetime\n",
        "\n",
        "# --------- User ---------\n",
        "\n",
        "# Used when a user registers or logs in\n",
        "class UserCreate(BaseModel):\n",
        "    username: str\n",
        "    password: str\n",
        "\n",
        "# Used when sending user data back in responses\n",
        "class UserOut(BaseModel):\n",
        "    id: int\n",
        "    username: str\n",
        "\n",
        "    class Config:\n",
        "        orm_mode = True  # allows conversion from database models\n",
        "\n",
        "# --------- Project ---------\n",
        "\n",
        "# Used to create a new project\n",
        "class ProjectCreate(BaseModel):\n",
        "    name: str\n",
        "\n",
        "# --------- Task ---------\n",
        "\n",
        "# Used to create a new task\n",
        "class TaskCreate(BaseModel):\n",
        "    title: str\n",
        "    description: Optional[str] = None\n",
        "    status: Optional[str] = \"To Do\"\n",
        "    due_date: Optional[datetime] = None\n",
        "    priority: Optional[str] = \"medium\"\n",
        "    project_id: int\n",
        "    assigned_to: int\n"
      ],
      "metadata": {
        "id": "0Qj3qk8nA5_Z"
      },
      "execution_count": 4,
      "outputs": []
    }
  ]
}